{
  "nbformat": 4,
  "nbformat_minor": 0,
  "metadata": {
    "colab": {
      "provenance": []
    },
    "kernelspec": {
      "name": "python3",
      "display_name": "Python 3"
    },
    "language_info": {
      "name": "python"
    }
  },
  "cells": [
    {
      "cell_type": "markdown",
      "source": [
        "**Lista de Exercícios N2**\n",
        "\n",
        "Tema: Grafos e Algoritmos de Busca (Dijkstra, A*, em-ordem, pré-ordem e pós-ordem)\n",
        "\n",
        "Disciplina: Inteligência Artificial\\\n",
        "Ambiente: Google Colab\\\n",
        "Entrega: via repositório individual no GitHub"
      ],
      "metadata": {
        "id": "51-tDsdpFH9B"
      }
    },
    {
      "cell_type": "markdown",
      "source": [
        "**Nome completo: Lucas Costa**\\\n",
        "**Matricula: 2265380**"
      ],
      "metadata": {
        "id": "-02FfQpMKNEb"
      }
    },
    {
      "cell_type": "markdown",
      "source": [
        "**Regras Gerais**\n",
        "\n",
        "- Trabalho individual.\n",
        "\n",
        "- Linguagem: Python 3 (Google Colab).\n",
        "\n",
        "- É permitido usar: heapq, numpy, matplotlib, dataclasses.\n",
        "\n",
        "- Proibido usar funções prontas de shortest path (networkx.shortest_path, scipy.sparse.csgraph.dijkstra, etc.).\n",
        "\n",
        "O Notebook (.ipynb) deve conter:\n",
        "\n",
        "- Identificação (nome, turma, link do GitHub)\n",
        "\n",
        "- Código, testes e reflexões\n",
        "\n",
        "- Seções organizadas conforme o roteiro abaixo."
      ],
      "metadata": {
        "id": "iJ41FayHF8rV"
      }
    },
    {
      "cell_type": "markdown",
      "source": [
        "**Parte A — Dijkstra (Caminho Mínimo em Grafos Ponderados Positivos)**\n",
        "\n",
        "> Imagine que você está projetando um sistema de navegação para ambulâncias em uma cidade. Cada interseção é representada como um nó e cada rua como uma aresta ponderada com o tempo médio de deslocamento. Você precisa encontrar a rota mais rápida entre o hospital e o local de atendimento, garantindo que o caminho tenha custo mínimo e seja correto mesmo em grandes redes urbanas.\n",
        "\n",
        "**Atividades**\n",
        "\n",
        "- Implemente o algoritmo de Dijkstra, retornando o custo mínimo (dist) e os predecessores (parent).\n",
        "\n",
        "- Crie uma função reconstruct_path(parent, target) que reconstrua o trajeto.\n",
        "\n",
        "Teste o algoritmo em um grafo de exemplo.\n",
        "\n",
        "**Explique (Questões Discursivas):**\n",
        "\n",
        "1. Por que Dijkstra exige arestas não negativas?\n",
        "\n",
        "2. Qual a complexidade do algoritmo com lista de adjacência e heapq?\n",
        "\n",
        "💡 Dica: Compare seu resultado com um mapa simples — se mudar o peso de uma rua, a rota muda?"
      ],
      "metadata": {
        "id": "XKYf0iFXGaV1"
      }
    },
    {
      "cell_type": "code",
      "source": [
        "import heapq\n",
        "\n",
        "def dijkstra(graph, start):\n",
        "    dist = {node: float('inf') for node in graph}\n",
        "    dist[start] = 0\n",
        "    parent = {node: None for node in graph}\n",
        "    pq = [(0, start)]\n",
        "\n",
        "    while pq:\n",
        "        current_dist, current_node = heapq.heappop(pq)\n",
        "        if current_dist > dist[current_node]:\n",
        "            continue\n",
        "        for neighbor, weight in graph[current_node]:\n",
        "            distance = current_dist + weight\n",
        "            if distance < dist[neighbor]:\n",
        "                dist[neighbor] = distance\n",
        "                parent[neighbor] = current_node\n",
        "                heapq.heappush(pq, (distance, neighbor))\n",
        "    return dist, parent\n",
        "\n",
        "def reconstruct_path(parent, target):\n",
        "    path = []\n",
        "    while target is not None:\n",
        "        path.append(target)\n",
        "        target = parent[target]\n",
        "    path.reverse()\n",
        "    return path\n",
        "\n",
        "graph = {\n",
        "    'Minha Casa': [('A', 12), ('B', 2)],\n",
        "    'A': [('C', 5), ('D', 14)],\n",
        "    'B': [('A', 1), ('D', 7)],\n",
        "    'C': [('D', 4), ('Faculdade', 10)],\n",
        "    'D': [('Faculdade', 21)],\n",
        "    'Faculdade': []\n",
        "}\n",
        "\n",
        "dist, parent = dijkstra(graph, 'Minha Casa')\n",
        "path = reconstruct_path(parent, 'Faculdade')\n",
        "\n",
        "print(\"Custo mínimo até a Faculdadede:\", dist['Faculdade'], \"minutos\")\n",
        "print(\"Rota encontrada:\", \" → \".join(path))\n"
      ],
      "metadata": {
        "id": "_7qVHP30FFF5",
        "colab": {
          "base_uri": "https://localhost:8080/"
        },
        "outputId": "a30ad265-77cc-42fb-9b3b-bb84500d01c2"
      },
      "execution_count": 96,
      "outputs": [
        {
          "output_type": "stream",
          "name": "stdout",
          "text": [
            "Custo mínimo até a Faculdadede: 18 minutos\n",
            "Rota encontrada: Minha Casa → B → A → C → Faculdade\n"
          ]
        }
      ]
    },
    {
      "cell_type": "markdown",
      "source": [
        "********Por que Dijkstra exige arestas não negativas?\n",
        "\n",
        "Resp: Se existirem arestas negativas pode acontecer de aparecer um caminho mais curto depois que o nó já foi visitado onde o Dijkstra não corrige a distância resultando em um erro."
      ],
      "metadata": {
        "id": "89JeaRZG93I2"
      }
    },
    {
      "cell_type": "markdown",
      "source": [
        "!!!!!!!!!!!!!!!!!!!\n",
        "Qual a complexidade do algoritmo com lista de adjacência e heapq?\n",
        "\n",
        "Resp: A complexidade de tempo de um algoritmo que utiliza lista de adjacência e fila de prioridade depende do algoritmo aplicado ao grafo e essa combinação é usada em algoritmos de caminho mínimo ou árvore geradora mínima oferecendo uma execução mais eficiente, especialmente em grafos esparsos, onde esta relativamente com poucas arestas.\n"
      ],
      "metadata": {
        "id": "5yVhTQf4ZWCz"
      }
    },
    {
      "cell_type": "markdown",
      "source": [
        "**Parte B — A-Star (Busca Informada com Heurística Admissível)**\n",
        "\n",
        "> Agora, considere um robô autônomo que deve se deslocar por um labirinto 2D, evitando obstáculos e chegando ao destino no menor tempo possível.\n",
        "Diferente do Dijkstra, o robô pode usar uma heurística (como a distância ao alvo) para priorizar rotas promissoras, economizando tempo de busca.\n",
        "\n",
        "**Atividades**\n",
        "\n",
        "1. Gere um grid 20x20 com ~15% de obstáculos aleatórios.\n",
        "\n",
        "2. Implemente a função heuristic(a, b) (distância Manhattan).\n",
        "\n",
        "3. Desenvolva o algoritmo a_star(grid, start, goal, h) e teste-o.\n",
        "\n",
        "**Explique (Questões Discursivas):**\n",
        "\n",
        "1. A* vs Dijkstra: qual expande menos nós?\n",
        "\n",
        "2. Por que a heurística Manhattan é admissível nesse caso?\n",
        "\n",
        "💡 Cenário real: O A* é amplamente usado em robôs aspiradores, drones e jogos. Seu desafio é aplicar o mesmo raciocínio."
      ],
      "metadata": {
        "id": "9vCEA95GGx_6"
      }
    },
    {
      "cell_type": "code",
      "source": [
        "import heapq\n",
        "import numpy as np\n",
        "import random\n",
        "\n",
        "def generate_grid(size=20, obstacle_prob=0.15):\n",
        "    grid = np.zeros((size, size), dtype=int)\n",
        "    for i in range(size):\n",
        "        for j in range(size):\n",
        "            if random.random() < obstacle_prob:\n",
        "                grid[i][j] = 1\n",
        "    return grid\n",
        "\n",
        "def heuristic(a, b):\n",
        "    return abs(a[0] - b[0]) + abs(a[1] - b[1])\n",
        "\n",
        "def neighbors(pos, grid):\n",
        "    x, y = pos\n",
        "    steps = [(1,0), (-1,0), (0,1), (0,-1)]\n",
        "    result = []\n",
        "    for dx, dy in steps:\n",
        "        nx, ny = x + dx, y + dy\n",
        "        if 0 <= nx < grid.shape[0] and 0 <= ny < grid.shape[1] and grid[nx][ny] == 0:\n",
        "            result.append((nx, ny))\n",
        "    return result\n",
        "\n",
        "def a_star(grid, start, goal, h):\n",
        "    pq = [(h(start, goal), 0, start)]\n",
        "    parent = {start: None}\n",
        "    g_score = {start: 0}\n",
        "\n",
        "    while pq:\n",
        "        f, cost, current = heapq.heappop(pq)\n",
        "        if current == goal:\n",
        "            # Reconstrói caminho\n",
        "            path = []\n",
        "            while current:\n",
        "                path.append(current)\n",
        "                current = parent[current]\n",
        "            path.reverse()\n",
        "            return path\n",
        "        for neighbor in neighbors(current, grid):\n",
        "            tentative_g = g_score[current] + 1\n",
        "            if neighbor not in g_score or tentative_g < g_score[neighbor]:\n",
        "                g_score[neighbor] = tentative_g\n",
        "                f_score = tentative_g + h(neighbor, goal)\n",
        "                parent[neighbor] = current\n",
        "                heapq.heappush(pq, (f_score, tentative_g, neighbor))\n",
        "    return None\n",
        "\n",
        "grid = generate_grid()\n",
        "start, goal = (0, 0), (19, 19)\n",
        "path = a_star(grid, start, goal, heuristic)\n",
        "\n",
        "if path:\n",
        "    print(\"Caminho encontrado pelo robô autônomo:\")\n",
        "    print(path)\n",
        "    display_grid = grid.copy()\n",
        "    for x, y in path:\n",
        "        display_grid[x][y] = 2\n",
        "    print(\"\\nGrid (0 = livre, 1 = obstáculo, 2 = caminho):\")\n",
        "    print(display_grid)\n",
        "else:\n",
        "    print(\"Nenhum caminho encontrado\")"
      ],
      "metadata": {
        "id": "XMIxqCl3FEt6",
        "colab": {
          "base_uri": "https://localhost:8080/"
        },
        "outputId": "b9b433b8-a6db-432d-aff6-5111e3b5f48e"
      },
      "execution_count": 85,
      "outputs": [
        {
          "output_type": "stream",
          "name": "stdout",
          "text": [
            "Caminho encontrado pelo robô autônomo:\n",
            "[(0, 0), (0, 1), (1, 1), (1, 2), (1, 3), (2, 3), (2, 4), (2, 5), (2, 6), (3, 6), (3, 7), (3, 8), (3, 9), (3, 10), (4, 10), (4, 11), (4, 12), (4, 13), (4, 14), (5, 14), (5, 15), (5, 16), (5, 17), (5, 18), (5, 19), (6, 19), (7, 19), (8, 19), (9, 19), (10, 19), (11, 19), (12, 19), (13, 19), (14, 19), (15, 19), (16, 19), (17, 19), (18, 19), (19, 19)]\n",
            "\n",
            "Grid (0 = livre, 1 = obstáculo, 2 = caminho):\n",
            "[[2 2 1 0 0 0 1 0 0 0 0 0 0 0 0 1 0 1 0 0]\n",
            " [0 2 2 2 1 0 0 0 0 0 0 0 0 0 0 0 0 1 0 0]\n",
            " [0 0 0 2 2 2 2 1 0 1 0 0 0 0 1 0 1 0 0 1]\n",
            " [0 0 0 0 0 0 2 2 2 2 2 1 1 0 0 0 0 0 0 1]\n",
            " [0 0 0 0 0 0 0 0 0 0 2 2 2 2 2 1 0 0 0 0]\n",
            " [0 0 0 0 0 0 1 0 0 0 0 0 1 0 2 2 2 2 2 2]\n",
            " [0 0 0 0 0 0 0 0 0 0 0 0 1 0 0 0 0 0 0 2]\n",
            " [1 0 1 1 0 0 0 0 0 0 0 0 0 0 0 0 0 0 1 2]\n",
            " [0 1 0 0 0 0 0 0 1 0 0 0 0 0 0 0 1 0 0 2]\n",
            " [1 0 0 0 1 0 0 0 0 0 0 0 1 0 0 0 0 0 0 2]\n",
            " [0 1 1 0 0 1 0 0 0 1 1 0 0 0 0 1 1 0 0 2]\n",
            " [0 0 0 0 0 0 1 1 0 0 0 0 1 0 0 0 0 0 1 2]\n",
            " [0 1 1 1 0 0 0 0 0 0 0 0 0 0 0 0 0 0 0 2]\n",
            " [0 0 0 0 0 0 0 0 0 0 0 0 1 0 0 0 0 0 0 2]\n",
            " [0 0 0 0 1 0 0 0 0 0 1 0 0 0 0 0 0 0 0 2]\n",
            " [0 1 0 0 0 0 0 0 0 0 0 0 0 0 1 0 0 0 0 2]\n",
            " [1 0 0 0 0 0 1 0 0 0 0 0 0 0 1 0 0 0 1 2]\n",
            " [0 1 0 0 1 0 1 0 0 0 0 0 0 0 0 0 0 0 0 2]\n",
            " [0 0 1 0 0 0 1 0 0 0 0 0 0 0 1 0 0 0 0 2]\n",
            " [0 0 0 0 0 0 0 0 0 0 0 1 0 0 0 0 0 0 0 2]]\n"
          ]
        }
      ]
    },
    {
      "cell_type": "markdown",
      "source": [
        "!!!!!!!!!!!!!!!\n",
        "A* vs Dijkstra: qual expande menos nós?\n",
        "\n",
        "Resp. A* espande menos que a Dijkstra para encontrar o caminho mais curto entre dois pontos. Uma das principais razões é que A* é um algoritmo de busca onde se ja tem a informação, enquanto o Dijkstra faz uma busca \"cega\" e explora em todas as direções até chegar ao destino."
      ],
      "metadata": {
        "id": "qseG6lsah3Af"
      }
    },
    {
      "cell_type": "markdown",
      "source": [
        "!!!!!!!!!!!!!!!!!!!!!Por que a heurística Manhattan é admissível nesse caso?\n",
        "\n",
        "Ela busca o melhor meio de buscar de forma otimista em espaços determinados a direções em 2D, tendo a menor custo de movimentos precisos."
      ],
      "metadata": {
        "id": "571e2-70lNi3"
      }
    },
    {
      "cell_type": "markdown",
      "source": [
        "**Parte C — Árvores Binárias e Percursos (DFS em-ordem, pré-ordem e pós-ordem)**\n",
        "\n",
        "> Você está desenvolvendo um sistema de recomendação que organiza produtos em uma árvore binária de busca (BST), conforme o preço. Cada nó é um produto e a travessia da árvore pode ser usada para: 1. Ordenar produtos (em-ordem); 2. Clonar a estrutura (pré-ordem); 3. Calcular totais ou liberar memória (pós-ordem);\n",
        "\n",
        "**Atividades**\n",
        "\n",
        "1. Crie uma BST com os valores: [50, 30, 70, 20, 40, 60, 80, 35, 45].\n",
        "\n",
        "Implemente os percursos:\n",
        "\n",
        "1. in_order(root)\n",
        "\n",
        "2. pre_order(root)\n",
        "\n",
        "3. post_order(root)\n",
        "\n",
        "Teste se as saídas correspondem às travessias esperadas.\n",
        "\n",
        "**Explique (Questões Discursivas):**\n",
        "\n",
        "1. Em que situação cada tipo de percurso é mais indicado?"
      ],
      "metadata": {
        "id": "qJ1Rbf22IASJ"
      }
    },
    {
      "cell_type": "code",
      "source": [
        "class Node:\n",
        "    def __init__(self, value):\n",
        "        self.value = value\n",
        "        self.left = None\n",
        "        self.right = None\n",
        "\n",
        "def insert(root, value):\n",
        "    if root is None:\n",
        "        return Node(value)\n",
        "    if value < root.value:\n",
        "        root.left = insert(root.left, value)\n",
        "    else:\n",
        "        root.right = insert(root.right, value)\n",
        "    return root\n",
        "\n",
        "def in_order(root):\n",
        "    if root:\n",
        "        in_order(root.left)\n",
        "        print(root.value, end=' ')\n",
        "        in_order(root.right)\n",
        "\n",
        "def pre_order(root):\n",
        "    if root:\n",
        "        print(root.value, end=' ')\n",
        "        pre_order(root.left)\n",
        "        pre_order(root.right)\n",
        "\n",
        "def post_order(root):\n",
        "    if root:\n",
        "        post_order(root.left)\n",
        "        post_order(root.right)\n",
        "        print(root.value, end=' ')\n",
        "\n",
        "values = [50, 30, 70, 20, 40, 60, 80, 35, 45]\n",
        "root = None\n",
        "for v in values:\n",
        "    root = insert(root, v)\n",
        "\n",
        "print(\"Percurso em-ordem :\")\n",
        "in_order(root)\n",
        "print(\"\\nPercurso pré-ordem :\")\n",
        "pre_order(root)\n",
        "print(\"\\nPercurso pós-ordem :\")\n",
        "post_order(root)\n"
      ],
      "metadata": {
        "id": "jxol5GNCIrM9",
        "colab": {
          "base_uri": "https://localhost:8080/"
        },
        "outputId": "939699de-730a-49c3-d150-b1fe08b3ee60"
      },
      "execution_count": 100,
      "outputs": [
        {
          "output_type": "stream",
          "name": "stdout",
          "text": [
            "Percurso em-ordem :\n",
            "20 30 35 40 45 50 60 70 80 \n",
            "Percurso pré-ordem :\n",
            "50 30 20 40 35 45 70 60 80 \n",
            "Percurso pós-ordem :\n",
            "20 35 45 40 30 60 80 70 50 "
          ]
        }
      ]
    },
    {
      "cell_type": "markdown",
      "source": [
        "!!!!!!!!!!!!!!!!!!  Em que situação cada tipo de percurso é mais indicado?\n",
        "\n",
        "Resp. Em-Ordem: ordena de forma crescente. Exemplo:Gerar relatorio de dados ordenados.\n",
        "Pre-Ordem: Mantem a hirarquia. Exemplo: é utilizado em sites de produtos variados mantendo a ordem de cada setor\n",
        "Pós-Ordem:Mantem a estrutura original da árvore.Exemplo:Soma todos os preços de produtos na árvore.\n"
      ],
      "metadata": {
        "id": "nK29_2yFl3q6"
      }
    },
    {
      "cell_type": "markdown",
      "source": [
        "**Parte D — Reflexões (Respostas Curtas)**\n",
        "\n",
        "Responda de forma argumentativa (5–10 linhas cada):\n",
        "\n",
        "1. Quando não é vantajoso usar A*, mesmo tendo uma heurística?\n",
        "\n",
        "R:A* pode não ser vantajoso quando o custo de calcular a heurística é alto ou quando o ambiente é muito pequeno ou simples.\n",
        "\n",
        "2. Diferencie corretude e otimalidade nos algoritmos estudados.\n",
        "\n",
        "R:Corretude: significa que o algoritmo sempre produz uma solução segura que respeita as regras do problema.\n",
        "\n",
        "Otimslidade:É quando esta certa a solução encontrada de acordo com o criterio de custo minimo.\n",
        "\n",
        "3. Dê um exemplo do mundo real onde cada tipo de percurso (em, pré, pós) é essencial.\n",
        "\n",
        "R:\n",
        "Em:Em sistema de produtos listados em ordem crescente\n",
        "\n",
        "Pre:Ao Salvar a estrutura de pastas de um sistema\n",
        "\n",
        "Pós:Calcular totais de estoque em forma de Hieraquia.\n",
        "\n",
        "4. Como heurísticas inconsistentes podem afetar o resultado do A*?\n",
        "\n",
        "R:Pode fazer com que a A* reviste nós ja expandidos assim reduzindo a eficiencia.\n",
        "\n",
        "💬 Sugestão: use exemplos de mapas, jogos, sistemas de busca ou árvores sintáticas."
      ],
      "metadata": {
        "id": "5bocfC3rIuwu"
      }
    },
    {
      "cell_type": "markdown",
      "source": [
        "**Entrega**\n",
        "\n",
        "Crie um repositório público chamado ia-grafos-seu-nome.\n",
        "\n",
        "Envie para o repositório o arquivo ia_grafos_buscas.ipynb.\n",
        "\n",
        "Submeta o link do repositório no ambiente da disciplina **Portal Digital Fametro.**."
      ],
      "metadata": {
        "id": "vyWiRE5TJEUf"
      }
    },
    {
      "cell_type": "markdown",
      "source": [
        "**Integridade Acadêmica**\n",
        "\n",
        "1. O trabalho é individual.\n",
        "2. Discussões conceituais são permitidas, mas o código deve ser inteiramente autoral.\n",
        "3. Verificações de similaridade serão aplicadas a todas as submissões.\n",
        "4. Busque e estude os algoritmos através de pesquisas na internet, livros, slides da disciplina."
      ],
      "metadata": {
        "id": "xP1stx7fJcCV"
      }
    },
    {
      "cell_type": "code",
      "source": [],
      "metadata": {
        "id": "uxmWR_KlJXDC"
      },
      "execution_count": 60,
      "outputs": []
    }
  ]
}